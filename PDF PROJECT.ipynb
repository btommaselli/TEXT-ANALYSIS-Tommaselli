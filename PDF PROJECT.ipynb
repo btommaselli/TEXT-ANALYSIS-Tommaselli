{
 "cells": [
  {
   "cell_type": "code",
   "execution_count": 22,
   "metadata": {},
   "outputs": [
    {
     "name": "stdout",
     "output_type": "stream",
     "text": [
      "Requirement already satisfied: pdfplumber in /Users/benedettatommaselli/anaconda3/lib/python3.11/site-packages (0.11.4)\n",
      "Requirement already satisfied: pdfminer.six==20231228 in /Users/benedettatommaselli/anaconda3/lib/python3.11/site-packages (from pdfplumber) (20231228)\n",
      "Requirement already satisfied: Pillow>=9.1 in /Users/benedettatommaselli/anaconda3/lib/python3.11/site-packages (from pdfplumber) (9.4.0)\n",
      "Requirement already satisfied: pypdfium2>=4.18.0 in /Users/benedettatommaselli/anaconda3/lib/python3.11/site-packages (from pdfplumber) (4.30.1)\n",
      "Requirement already satisfied: charset-normalizer>=2.0.0 in /Users/benedettatommaselli/anaconda3/lib/python3.11/site-packages (from pdfminer.six==20231228->pdfplumber) (2.0.4)\n",
      "Requirement already satisfied: cryptography>=36.0.0 in /Users/benedettatommaselli/anaconda3/lib/python3.11/site-packages (from pdfminer.six==20231228->pdfplumber) (41.0.3)\n",
      "Requirement already satisfied: cffi>=1.12 in /Users/benedettatommaselli/anaconda3/lib/python3.11/site-packages (from cryptography>=36.0.0->pdfminer.six==20231228->pdfplumber) (1.15.1)\n",
      "Requirement already satisfied: pycparser in /Users/benedettatommaselli/anaconda3/lib/python3.11/site-packages (from cffi>=1.12->cryptography>=36.0.0->pdfminer.six==20231228->pdfplumber) (2.21)\n",
      "Note: you may need to restart the kernel to use updated packages.\n"
     ]
    }
   ],
   "source": [
    "pip install pdfplumber"
   ]
  },
  {
   "cell_type": "code",
   "execution_count": 29,
   "metadata": {},
   "outputs": [],
   "source": [
    "import pdfplumber"
   ]
  },
  {
   "cell_type": "code",
   "execution_count": 83,
   "metadata": {},
   "outputs": [],
   "source": [
    "pdf_files = ['601ct0000006053.pdf','601CT0000006052.pdf']"
   ]
  },
  {
   "cell_type": "code",
   "execution_count": 84,
   "metadata": {},
   "outputs": [
    {
     "name": "stdout",
     "output_type": "stream",
     "text": [
      "Text from the first page of 601ct0000006053.pdf:\n",
      " Revised\n",
      "Selection Results\n",
      "Selection Date: 04/29/2024\n",
      "Solicitation Close Date: 10/05/2024\n",
      "RFP Number: 601CT0000006053 Legacy # 245RFP5055\n",
      "Total Value of all Contracts: $15,000,000.00 Wave 2025-1\n",
      "Process Type: Non Fed No Int HUB El Paso Service Center\n",
      "Number of Contracts:3\n",
      "Number of Responsive Firms: 18\n",
      "Number of Responses Received: 18 Rank\n",
      "Contract Nbr:0000000000000000000015335 Legacy # 245IDP5055\n",
      "Prime: OTHON, INC. HUB DBE 1\n",
      "Sub: BLANTON & ASSOCIATES, INC.\n",
      "Sub: CEA ENGINEERING GROUP, INC. HUB DBE\n",
      "Sub: CONSOR ENGINEERS, LLC\n",
      "Sub: DALLAS AERIAL SURVEYS, INC. HUB DBE\n",
      "Sub: EAST TEXAS TESTING LABORATORY, INC. HUB\n",
      "Sub: GRV INTEGRATED ENGINEERING SOLUTIONS LLC HUB DBE\n",
      "Sub: HUITT-ZOLLARS, INC.\n",
      "Sub: LANDTECH, INC. HUB DBE\n",
      "Sub: MORENO CARDENAS INC. HUB DBE\n",
      "Sub: RODRIGUEZ TRANSPORTATION GROUP, INC.\n",
      "Sub: THE RIOS GROUP, INC. HUB DBE\n",
      "Contract Nbr:0000000000000000000015336 Legacy # 245IDP5056\n",
      "Prime: HNTB CORPORATION 2\n",
      "Sub: AG3 GROUP, LLC HUB DBE\n",
      "Sub: BLANTON & ASSOCIATES, INC.\n",
      "Sub: DALLAS AERIAL SURV\n",
      "Text from the first page of 601CT0000006052.pdf:\n",
      " Revised\n",
      "Selection Results\n",
      "Selection Date: 10/24/2024\n",
      "Solicitation Close Date: 10/15/2024\n",
      "RFP Number: 601CT0000006052 Legacy # 185RFP5026\n",
      "Total Value of all Contracts: $100,000,000.00 Wave 2025-1\n",
      "Process Type: Non Fed No Int HUB Dallas Service Center\n",
      "Number of Contracts:10\n",
      "Number of Responsive Firms: 54\n",
      "Number of Responses Received: 54 Rank\n",
      "Contract Nbr:0000000000000000000015364 Legacy # 185IDP5026\n",
      "Prime: ENTECH CIVIL ENGINEERS, INC. 1\n",
      "Sub: AIG TECHNICAL SERVICES, LLC HUB DBE\n",
      "Sub: B2Z ENGINEERING, LLC HUB DBE\n",
      "Sub: CONSOR ENGINEERS, LLC\n",
      "Sub: HALFF ASSOCIATES, INC.\n",
      "Sub: HVJ NORTH TEXAS-CHELLIAH CONSULTANTS, INC. HUB DBE\n",
      "Sub: MICHAEL BAKER INTERNATIONAL, INC.\n",
      "Sub: RODS SURVEYING, INC. HUB DBE\n",
      "Contract Nbr:0000000000000000000015365 Legacy # 185IDP5027\n",
      "Prime: AIG TECHNICAL SERVICES, LLC HUB DBE 2\n",
      "Sub: ARDURRA GROUP, INC.\n",
      "Sub: CASCADE CIVIL SERVICES, LLC HUB DBE\n",
      "Sub: CONSOR ENGINEERS, LLC\n",
      "Sub: ENTECH CIVIL ENGINEERS, INC.\n",
      "Sub: HVJ NORTH TEXAS-CHELLIAH CONSULTANTS, INC. HUB DBE\n",
      "Sub: IDCUS INC.\n"
     ]
    }
   ],
   "source": [
    "for pdf_path in pdf_files:\n",
    "    with pdfplumber.open(pdf_path) as pdf:\n",
    "        first_page_text = pdf.pages[0].extract_text()\n",
    "        print(f\"Text from the first page of {pdf_path}:\\n\", first_page_text[:1000])"
   ]
  },
  {
   "cell_type": "code",
   "execution_count": 85,
   "metadata": {},
   "outputs": [],
   "source": [
    "first_page_tables = pdf.pages[0].extract_tables()"
   ]
  },
  {
   "cell_type": "code",
   "execution_count": 86,
   "metadata": {},
   "outputs": [
    {
     "name": "stdout",
     "output_type": "stream",
     "text": [
      "\n",
      "First table found on page 1:\n",
      "['AIG TECHNICAL SERVICES, LLC']\n",
      "['B2Z ENGINEERING, LLC']\n",
      "['CONSOR ENGINEERS, LLC']\n",
      "['HALFF ASSOCIATES, INC.']\n",
      "['HVJ NORTH TEXAS-CHELLIAH CONSULTANTS, INC.']\n",
      "['MICHAEL BAKER INTERNATIONAL, INC.']\n",
      "['RODS SURVEYING, INC.']\n"
     ]
    }
   ],
   "source": [
    "if first_page_tables:\n",
    "            print(\"\\nFirst table found on page 1:\")\n",
    "            for row in first_page_tables[0]:\n",
    "                print(row)"
   ]
  },
  {
   "cell_type": "code",
   "execution_count": 87,
   "metadata": {},
   "outputs": [],
   "source": [
    "cleaned_table = [row for row in first_page_tables[0] if any(cell.strip() for cell in row)]"
   ]
  },
  {
   "cell_type": "code",
   "execution_count": 88,
   "metadata": {
    "scrolled": true
   },
   "outputs": [
    {
     "data": {
      "text/plain": [
       "[['AIG TECHNICAL SERVICES, LLC'],\n",
       " ['B2Z ENGINEERING, LLC'],\n",
       " ['CONSOR ENGINEERS, LLC'],\n",
       " ['HALFF ASSOCIATES, INC.'],\n",
       " ['HVJ NORTH TEXAS-CHELLIAH CONSULTANTS, INC.'],\n",
       " ['MICHAEL BAKER INTERNATIONAL, INC.'],\n",
       " ['RODS SURVEYING, INC.']]"
      ]
     },
     "execution_count": 88,
     "metadata": {},
     "output_type": "execute_result"
    }
   ],
   "source": [
    "cleaned_table"
   ]
  },
  {
   "cell_type": "code",
   "execution_count": 89,
   "metadata": {},
   "outputs": [],
   "source": [
    "company_names = ['AIG TECHNICAL SERVICES, LLC','B2Z ENGINEERING, LLC', \n",
    "                 'CONSOR ENGINEERS, LLC','HALFF ASSOCIATES, INC.',\n",
    "                 'HVJ NORTH TEXAS-CHELLIAH CONSULTANTS, INC.', \n",
    "                 'MICHAEL BAKER INTERNATIONAL, INC.',\n",
    "                 'RODS SURVEYING, INC.']\n",
    "\n"
   ]
  }
 ],
 "metadata": {
  "celltoolbar": "Slideshow",
  "colab": {
   "collapsed_sections": [],
   "name": "week-8C-download-and-read_BLANK.ipynb",
   "provenance": [
    {
     "file_id": "1O76yK1JGDPc1kRTHTOIDjev2XbLGExhv",
     "timestamp": 1646785092936
    },
    {
     "file_id": "1U8zDTAuA8NQ2JaDzSqzSn03P2iT8KFLG",
     "timestamp": 1639579061177
    },
    {
     "file_id": "1tC30RwvbvYZQU9bLZ75I6kBbMski9LFN",
     "timestamp": 1628626954402
    }
   ]
  },
  "kernelspec": {
   "display_name": "Python 3 (ipykernel)",
   "language": "python",
   "name": "python3"
  },
  "language_info": {
   "codemirror_mode": {
    "name": "ipython",
    "version": 3
   },
   "file_extension": ".py",
   "mimetype": "text/x-python",
   "name": "python",
   "nbconvert_exporter": "python",
   "pygments_lexer": "ipython3",
   "version": "3.11.5"
  }
 },
 "nbformat": 4,
 "nbformat_minor": 1
}
